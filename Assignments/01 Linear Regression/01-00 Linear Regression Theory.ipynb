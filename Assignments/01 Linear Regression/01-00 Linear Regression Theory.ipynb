{
 "cells": [
  {
   "cell_type": "markdown",
   "metadata": {},
   "source": [
    "## Table of Contents\n",
    "- [What is Linear Regression?](#lr-what-is)\n",
    "- [Hypothesis](#lr-hypothesis)\n",
    "- [Cost function](#lr-cost-function)\n",
    "- [Train Dataset](#lr-dataset)\n",
    "- [Training](#lr-training)\n",
    "- [Gradient Descent Implementation](#lr-gd-impl)\n",
    "- [Evaluation](#lr-evaluation)\n",
    "- [SKLEARN Solution](#lr-sklearn)\n",
    "- [Results](#lr-results)\n",
    "- [Resources](#lr-resources)"
   ]
  },
  {
   "cell_type": "markdown",
   "metadata": {},
   "source": [
    "### What is Linear Regression? <a class=\"anchor\" id=\"lr-what-is\"></a>\n",
    "Linear regression is a model that finds a relationship between one or more features (independent variables) and a continuous target variable (dependent variable).\n",
    "When there is only one feature it is called <b>Uni-Variate Linear Regression</b> and if there are multiple features, it is called <b>Multiple Linear Regression</b>.\n",
    "\n",
    "<a href=\"https://en.wikipedia.org/wiki/Linear_regression\">Linear Regression</a> is one of existing models used in <b>Statistics</b> for <b>Regression Analysis</b>"
   ]
  },
  {
   "cell_type": "markdown",
   "metadata": {},
   "source": [
    "### Linear Regression Hypothesis <a class=\"anchor\" id=\"lr-hypothesis\"></a>\n",
    "Hypothesis is a function, that is used to train model and eventually predict outcome based on new input.\n",
    "\n",
    "$$ Y = \\theta_0 + \\theta_1x_1 + \\theta_2x_2 + ... + \\theta_nx_n $$\n",
    "or\n",
    "$$ h(x) = \\theta_0 + \\theta_1x_1 + \\theta_2x_2 + ... + \\theta_nx_n $$\n",
    "\n",
    "- $Y$ or $h(x)$ - Predicted Value or Hypothesis\n",
    "- $\\theta_0$ - bias\n",
    "- $\\theta_1, ..., \\theta_n$ - model parameters\n",
    "- $x_1, ..., x_n$ - feature values\n",
    "\n",
    "Hypothesis $Y$ also can be represented as:\n",
    "\n",
    "$$ Y = \\theta_0 + \\theta_1x_1 + \\theta_2x_2 + ... + \\theta_nx_n = \\sum_{n=1}^{m}\\theta_{i}x_{i} = \\theta^{T}x$$\n",
    "\n",
    "- $m$ - total number of examples in our dataset\n",
    "- $\\theta^{T}$ - is the model’s parameter vector including the bias term $\\theta_{0}$\n",
    "- $x$ - is the feature vector with $x_{0} = 1$"
   ]
  },
  {
   "cell_type": "markdown",
   "metadata": {},
   "source": [
    "### Cost function <a class=\"anchor\" id=\"lr-cost-function\"></a>\n",
    "\n",
    "Cost function is used to define and measure the error of our model. We will define it as the sum of squares of errors.\n",
    "\n",
    "$$ J(\\theta) = \\dfrac{1}{2m}\\sum_{i = 1}^{m}(h(x^i) - y^i)^2$$\n",
    "\n",
    "<b><a href=\"https://en.wikipedia.org/wiki/Gradient_descent\">Gradient descent</a></b> is a generic optimization algorithm used in many machine learning algorithms. It iteratively tweaks the parameters of the model in order to minimize the cost function."
   ]
  },
  {
   "cell_type": "markdown",
   "metadata": {},
   "source": [
    "### Train Dataset <a class=\"anchor\" id=\"lr-dataset\"></a>\n",
    "\n",
    "For the purpose if this notebook, I will generate bunch of random digits that will be used as 'dataset' "
   ]
  },
  {
   "cell_type": "code",
   "execution_count": 1,
   "metadata": {},
   "outputs": [],
   "source": [
    "# In case if we will need later on just run some blocks that depend on NumPy\n",
    "import numpy as np\n",
    "import matplotlib.pyplot as plt\n",
    "\n",
    "# Also I will import dataset split function, because I'm lazy.\n",
    "from sklearn.model_selection import train_test_split"
   ]
  },
  {
   "cell_type": "code",
   "execution_count": 2,
   "metadata": {},
   "outputs": [
    {
     "data": {
      "image/png": "[encoded data removed]",
      "text/plain": [
       "<matplotlib.figure.Figure at 0x1c213c0bf98>"
      ]
     },
     "metadata": {},
     "output_type": "display_data"
    }
   ],
   "source": [
    "# Generate random dataset\n",
    "np.random.seed(0)\n",
    "x = np.random.rand(100, 1)\n",
    "y = 3 * x + np.random.rand(100, 1)\n",
    "\n",
    "# Build distribution graph for newly generated numbers\n",
    "plt.scatter(x,y,s=10)\n",
    "plt.xlabel('x')\n",
    "plt.ylabel('y')\n",
    "plt.show()"
   ]
  },
  {
   "cell_type": "markdown",
   "metadata": {},
   "source": [
    "### Training the Data Model <a class=\"anchor\" id=\"lr-training\"></a>\n",
    "\n",
    "Basically we need to find parameters so that model best fit the data. In this case our randomly generated data. \n",
    "\n",
    "The line for which the the <i>error</i> between the <b>predicted values</b> and the <b>observed values</b> is <b>minimum</b> is called the best fit line or the <b>regression line</b>. \n",
    "\n",
    "By the way, this <i>errors</i> can also be called in some references as <b>residuals</b>"
   ]
  },
  {
   "cell_type": "markdown",
   "metadata": {},
   "source": [
    "### Gradien Descent Implementation <a class=\"anchor\" id=\"lr-gd-impl\"></a>\n",
    "\n",
    "Let's try to implement simple gradient descent based fit function.\n",
    "We were suggested to try to implement this ourselves."
   ]
  },
  {
   "cell_type": "code",
   "execution_count": 3,
   "metadata": {},
   "outputs": [],
   "source": [
    "class LinearRegressionWithGradientDescent:\n",
    "    \"\"\"Linear Regression Using Gradient Descent.\n",
    "    Local variables\n",
    "    ----------\n",
    "    eta : float\n",
    "        Defines learning rate\n",
    "    iterations : int\n",
    "        Numner of passes over the training set\n",
    "    \n",
    "    Attributes\n",
    "    ----------\n",
    "    coeff_ : final weights after fitting the model\n",
    "    cost_ : total error of the model after each iteration\n",
    "    \"\"\"\n",
    "\n",
    "    def __init__(self, eta = 0.05, iterations = 1000):\n",
    "        self.eta = eta\n",
    "        self.iterations = iterations\n",
    "\n",
    "    def fit(self, x, y):\n",
    "        \"\"\"Fit function\n",
    "        Input variables\n",
    "        ----------\n",
    "        x : array-like, shape = [n_samples, n_features]\n",
    "            Training samples\n",
    "        y : array-like, shape = [n_samples, n_target_values]\n",
    "            Target values\n",
    "        \n",
    "        Returns\n",
    "        -------\n",
    "        self : object\n",
    "        \"\"\"\n",
    "\n",
    "        self.cost_ = []\n",
    "        self.coeff_ = np.zeros((x.shape[1], 1))\n",
    "        m = x.shape[0]\n",
    "\n",
    "        for _ in range(self.iterations):\n",
    "            y_pred = np.dot(x, self.coeff_)\n",
    "            residuals = y_pred - y\n",
    "            gradient_vector = np.dot(x.T, residuals)\n",
    "            self.coeff_ -= (self.eta / m) * gradient_vector\n",
    "            cost = np.sum((residuals ** 2)) / (2 * m)\n",
    "            self.cost_.append(cost)\n",
    "        return self\n",
    "\n",
    "    def predict(self, x):\n",
    "        \"\"\" Prediction function that can be used after model is trained.\n",
    "        Parameters\n",
    "        ----------\n",
    "        x : array-like, shape = [n_samples, n_features]\n",
    "            Test samples\n",
    "        Returns\n",
    "        -------\n",
    "        Predicted value\n",
    "        \"\"\"\n",
    "        return np.dot(x, self.coeff_)\n",
    "    \n",
    "    def get_coefficients(self):\n",
    "        print (\"Coefficient after model training:\", self.coeff_)\n",
    "        return"
   ]
  },
  {
   "cell_type": "code",
   "execution_count": 4,
   "metadata": {},
   "outputs": [
    {
     "name": "stdout",
     "output_type": "stream",
     "text": [
      "Predicted values based on model training:\n",
      " [[3.12522492]\n",
      " [1.73639969]\n",
      " [0.80085048]\n",
      " [1.98648822]\n",
      " [2.81410964]\n",
      " [2.97119287]\n",
      " [3.01381148]\n",
      " [3.72524684]\n",
      " [3.16948325]\n",
      " [2.35111543]\n",
      " [0.07654217]\n",
      " [2.34844507]\n",
      " [3.71702877]\n",
      " [1.36851683]\n",
      " [0.60513983]\n",
      " [0.07152599]\n",
      " [2.65563018]\n",
      " [0.96418972]\n",
      " [2.16234063]\n",
      " [0.36581196]] \n",
      "\n",
      "Actual values based on test set:\n",
      " [[2.47469377]\n",
      " [1.50392506]\n",
      " [0.73137457]\n",
      " [2.2257185 ]\n",
      " [3.01148844]\n",
      " [2.98557773]\n",
      " [2.82230049]\n",
      " [3.66110931]\n",
      " [3.07913241]\n",
      " [2.44377925]\n",
      " [0.31467912]\n",
      " [2.50400281]\n",
      " [3.450415  ]\n",
      " [1.9750703 ]\n",
      " [1.17433752]\n",
      " [0.62633431]\n",
      " [2.52875851]\n",
      " [1.32897555]\n",
      " [2.40361296]\n",
      " [0.4599249 ]] \n",
      "\n",
      "Coefficient after model training: [[3.80663909]]\n"
     ]
    }
   ],
   "source": [
    "# Make training set and test set out of our dataset\n",
    "X_train, X_test, Y_train, Y_test = train_test_split(x, y, test_size = 0.2, random_state=5)\n",
    "\n",
    "lin_model = LinearRegressionWithGradientDescent()\n",
    "lin_model.fit(X_train, Y_train)\n",
    "\n",
    "predicted_values = lin_model.predict(X_test)\n",
    "print(\"Predicted values based on model training:\\n\", predicted_values, \"\\n\")\n",
    "print(\"Actual values based on test set:\\n\", Y_test, \"\\n\")\n",
    "\n",
    "lin_model.get_coefficients()"
   ]
  },
  {
   "cell_type": "markdown",
   "metadata": {},
   "source": [
    "### Evaluation <a class=\"anchor\" id=\"lr-evaluation\"></a>\n",
    "\n",
    "Know we need to know, how good are we with our model. For this we will use <b><a href=\"https://en.wikipedia.org/wiki/Root-mean-square_deviation\">Root mean squared error(RMSE)</a></b> and <b><a href=\"https://en.wikipedia.org/wiki/Coefficient_of_determination\">Coefficient of Determination($R^2$ score)</a></b> to evaluate our model.\n",
    "\n",
    "$RMSE$ is defined as:\n",
    "\n",
    "$$ RMSE = \\sqrt{\\dfrac{1}{m}\\sum_{i = 1}^{m}(h(x^i) - y^i)^2}$$\n",
    "\n",
    "$R^2$ is defined as:\n",
    "\n",
    "$$ R^2 = 1 - \\dfrac{SS_r}{SS_t} $$\n",
    "\n",
    "- $SS_r$ - is the total sum of errors if we take the mean of the observed values as the predicted value.\n",
    "- $SS_t$ - is the sum of the square of errors"
   ]
  },
  {
   "cell_type": "code",
   "execution_count": 5,
   "metadata": {},
   "outputs": [
    {
     "name": "stdout",
     "output_type": "stream",
     "text": [
      "RMSE =  0.31653822319988595\n",
      "R2 score =  0.8988411204042933\n"
     ]
    }
   ],
   "source": [
    "# Let's define function that will calculate RMSE\n",
    "def get_rmse(p_values, t_values):\n",
    "        \"\"\" This function calculates RMSE based on model prediction and test set\n",
    "        Parameters\n",
    "        ----------\n",
    "        p_values : array-like,\n",
    "                   predicted values by model after training\n",
    "        t_values : array-like\n",
    "                   actual values from test set\n",
    "        Returns\n",
    "        -------\n",
    "        Print-out of RMSE value\n",
    "        \"\"\"\n",
    "        \n",
    "        # ** is the same as pow() function. Just returns squared value.\n",
    "        mse = np.sum((p_values - t_values)**2)\n",
    "\n",
    "        # len(t_values) -> returns number of entries in array, this is 'm' value from equation\n",
    "        rmse = np.sqrt(mse/len(t_values))\n",
    "\n",
    "        print (\"RMSE = \", rmse)\n",
    "        return\n",
    "\n",
    "# Let's define function that will calculate coefficient of determination    \n",
    "def get_r2(p_values, t_values):\n",
    "    \"\"\" This function calculates R2 score based on model prediction and test set\n",
    "    Parameters\n",
    "    ----------\n",
    "    p_values : array-like,\n",
    "               predicted values by model after training\n",
    "    t_values : array-like\n",
    "               actual values from test set\n",
    "    Returns\n",
    "    -------\n",
    "    Print-out of R2 score\n",
    "    \"\"\"\n",
    "    ss_r = np.sum((p_values - t_values)**2)\n",
    "    ss_t = np.sum((t_values - np.mean(t_values))**2)\n",
    "\n",
    "    r2_score = 1 - (ss_r/ss_t)\n",
    "    print (\"R2 score = \", r2_score)\n",
    "    return\n",
    "\n",
    "\n",
    "get_rmse(predicted_values, Y_test)\n",
    "get_r2(predicted_values, Y_test)"
   ]
  },
  {
   "cell_type": "markdown",
   "metadata": {},
   "source": [
    "### SKLEARN solution <a class=\"anchor\" id=\"lr-sklearn\"></a>"
   ]
  },
  {
   "cell_type": "code",
   "execution_count": 6,
   "metadata": {},
   "outputs": [
    {
     "name": "stdout",
     "output_type": "stream",
     "text": [
      "Getting coefficients from 'history':\n",
      "[[2.87133665]] \n",
      "\n",
      "The model performance for testing set\n",
      "--------------------------------------\n",
      "RMSE is 0.2541310419919423\n",
      "R2 score is 0.9347970681170494\n"
     ]
    }
   ],
   "source": [
    "import numpy\n",
    "from sklearn.linear_model import LinearRegression\n",
    "from sklearn.metrics import mean_squared_error, r2_score\n",
    "\n",
    "# Make training set and test set\n",
    "sX_train, sX_test, sY_train, sY_test = train_test_split(x, y, test_size = 0.2, random_state=5)\n",
    "\n",
    "sklearn_lin_model = LinearRegression()\n",
    "history = sklearn_lin_model.fit(sX_train, sY_train)\n",
    "\n",
    "print(\"Getting coefficients from 'history':\")\n",
    "print(history.coef_, \"\\n\")\n",
    "\n",
    "y_test_predict = sklearn_lin_model.predict(sX_test)\n",
    "rmse = (numpy.sqrt(mean_squared_error(sY_test, y_test_predict)))\n",
    "r2 = r2_score(sY_test, y_test_predict)\n",
    "\n",
    "print(\"The model performance for testing set\")\n",
    "print(\"--------------------------------------\")\n",
    "print('RMSE is {}'.format(rmse))\n",
    "print('R2 score is {}'.format(r2))\n"
   ]
  },
  {
   "cell_type": "markdown",
   "metadata": {},
   "source": [
    "### Results <a class=\"anchor\" id=\"lr-results\"></a>\n",
    "\n",
    "Here is a comparisment for results I got from my implementation defined above and the one used in SKLEARN library.\n",
    "\n",
    "| Value | My LR Implementation | SKLEARN LR Implementation   |\n",
    "|-------|----------------|-------------------|\n",
    "|coefficients |3.80663909|2.87133665 |\n",
    "|RMSE score|0.31653822319988595|0.2541310419919423|\n",
    "|R2 score|0.8988411204042933|0.9347970681170494|"
   ]
  },
  {
   "cell_type": "markdown",
   "metadata": {},
   "source": [
    "### Resources <a class=\"anchor\" id=\"lr-resources\"></a>\n",
    "\n",
    "- <a href=\"http://ocdevel.com/mlg/5\">Machine Learning Guide podcast, on Linear Regression</a>\n",
    "- <a href=\"https://www.youtube.com/watch?v=kHwlB_j7Hkc\">Andrew Ng lecture on Uni-variate Linear Regression</a>\n",
    "- <a href=\"https://www.udemy.com/data-science-linear-regression-in-python/\">Udemy course on Linear Regression in Python</a>\n"
   ]
  },
  {
   "cell_type": "markdown",
   "metadata": {},
   "source": [
    "Created by <a class=\"reference external\" href=\"https://www.facebook.com/vladyslav.elashevskyy\">Vladyslav Ieliashevskyi</a> in May 2019, based on second lecture of Lviv Data Science School 2019, performed by <a class=\"reference external\" href=\"https://www.facebook.com/oleksandr.gurbych\">Oleksandr Gurbych</a>\n",
    "\n",
    "This work is licensed under a <a rel=\"license\" href=\"http://creativecommons.org/licenses/by/3.0/deed.en_US\">Creative Commons Attribution 3.0 Unported License</a>"
   ]
  }
 ],
 "metadata": {
  "kernelspec": {
   "display_name": "Python 3",
   "language": "python",
   "name": "python3"
  },
  "language_info": {
   "codemirror_mode": {
    "name": "ipython",
    "version": 3
   },
   "file_extension": ".py",
   "mimetype": "text/x-python",
   "name": "python",
   "nbconvert_exporter": "python",
   "pygments_lexer": "ipython3",
   "version": "3.6.8"
  }
 },
 "nbformat": 4,
 "nbformat_minor": 2
}
